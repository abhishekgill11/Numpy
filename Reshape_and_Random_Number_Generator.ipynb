{
  "nbformat": 4,
  "nbformat_minor": 0,
  "metadata": {
    "colab": {
      "provenance": []
    },
    "kernelspec": {
      "name": "python3",
      "display_name": "Python 3"
    },
    "language_info": {
      "name": "python"
    }
  },
  "cells": [
    {
      "cell_type": "code",
      "execution_count": 2,
      "metadata": {
        "id": "uC7bXlRrS806"
      },
      "outputs": [],
      "source": [
        "import numpy as np"
      ]
    },
    {
      "cell_type": "code",
      "source": [
        "arr = np.random.random((3,4))"
      ],
      "metadata": {
        "id": "96I4a2wvWgeh"
      },
      "execution_count": 16,
      "outputs": []
    },
    {
      "cell_type": "code",
      "source": [
        "if np.random.random() > 0.5:\n",
        "  print(\"Run\")\n",
        "else:\n",
        "  print(\"Don't run the function\")"
      ],
      "metadata": {
        "colab": {
          "base_uri": "https://localhost:8080/"
        },
        "id": "p-K7NFa1XWLh",
        "outputId": "ac820297-b669-4031-b15a-3fbe3e0e0779"
      },
      "execution_count": 9,
      "outputs": [
        {
          "output_type": "stream",
          "name": "stdout",
          "text": [
            "Run\n"
          ]
        }
      ]
    },
    {
      "cell_type": "code",
      "source": [
        "np.arange(1,10,1)"
      ],
      "metadata": {
        "colab": {
          "base_uri": "https://localhost:8080/"
        },
        "id": "tW2ycmciX0hO",
        "outputId": "1e1ec0bf-1c43-49fd-b947-25827060f52e"
      },
      "execution_count": 10,
      "outputs": [
        {
          "output_type": "execute_result",
          "data": {
            "text/plain": [
              "array([1, 2, 3, 4, 5, 6, 7, 8, 9])"
            ]
          },
          "metadata": {},
          "execution_count": 10
        }
      ]
    },
    {
      "cell_type": "code",
      "source": [
        "np.arange(1,10,2)"
      ],
      "metadata": {
        "colab": {
          "base_uri": "https://localhost:8080/"
        },
        "id": "qiAUao2IX5HP",
        "outputId": "d84bea5d-6b77-4fab-c2b5-0319e70302ba"
      },
      "execution_count": 11,
      "outputs": [
        {
          "output_type": "execute_result",
          "data": {
            "text/plain": [
              "array([1, 3, 5, 7, 9])"
            ]
          },
          "metadata": {},
          "execution_count": 11
        }
      ]
    },
    {
      "cell_type": "code",
      "source": [
        "np.linspace(1,10,10)"
      ],
      "metadata": {
        "colab": {
          "base_uri": "https://localhost:8080/"
        },
        "id": "pBxqqv_qX_Nh",
        "outputId": "2cbe2228-a7ea-4481-ac35-512d3f542b3e"
      },
      "execution_count": 12,
      "outputs": [
        {
          "output_type": "execute_result",
          "data": {
            "text/plain": [
              "array([ 1.,  2.,  3.,  4.,  5.,  6.,  7.,  8.,  9., 10.])"
            ]
          },
          "metadata": {},
          "execution_count": 12
        }
      ]
    },
    {
      "cell_type": "code",
      "source": [
        "np.linspace(1,7,10)"
      ],
      "metadata": {
        "colab": {
          "base_uri": "https://localhost:8080/"
        },
        "id": "WP7I0fiSYHR4",
        "outputId": "8faa8843-d54b-494d-8969-f45334f90507"
      },
      "execution_count": 13,
      "outputs": [
        {
          "output_type": "execute_result",
          "data": {
            "text/plain": [
              "array([1.        , 1.66666667, 2.33333333, 3.        , 3.66666667,\n",
              "       4.33333333, 5.        , 5.66666667, 6.33333333, 7.        ])"
            ]
          },
          "metadata": {},
          "execution_count": 13
        }
      ]
    },
    {
      "cell_type": "code",
      "source": [
        "# linspace takes last parameter as how many values you want between the first 2 parameter including both the parameter"
      ],
      "metadata": {
        "id": "se584JTSYRMb"
      },
      "execution_count": null,
      "outputs": []
    },
    {
      "cell_type": "code",
      "source": [
        "np.reshape(arr, (4,3))"
      ],
      "metadata": {
        "colab": {
          "base_uri": "https://localhost:8080/"
        },
        "id": "8fxKKwdAYkpg",
        "outputId": "57e85043-3860-43e8-e6a8-a108c08b6d88"
      },
      "execution_count": 17,
      "outputs": [
        {
          "output_type": "execute_result",
          "data": {
            "text/plain": [
              "array([[0.95214471, 0.28703579, 0.20220506],\n",
              "       [0.04040527, 0.2445079 , 0.81119387],\n",
              "       [0.59336583, 0.74699511, 0.43809282],\n",
              "       [0.85193902, 0.29831895, 0.45092787]])"
            ]
          },
          "metadata": {},
          "execution_count": 17
        }
      ]
    },
    {
      "cell_type": "code",
      "source": [
        "np.reshape(arr, (6,2))"
      ],
      "metadata": {
        "colab": {
          "base_uri": "https://localhost:8080/"
        },
        "id": "tgm9qzkRZJrb",
        "outputId": "bfb569c6-5519-4c6e-d65f-0c0213f4ac63"
      },
      "execution_count": 18,
      "outputs": [
        {
          "output_type": "execute_result",
          "data": {
            "text/plain": [
              "array([[0.95214471, 0.28703579],\n",
              "       [0.20220506, 0.04040527],\n",
              "       [0.2445079 , 0.81119387],\n",
              "       [0.59336583, 0.74699511],\n",
              "       [0.43809282, 0.85193902],\n",
              "       [0.29831895, 0.45092787]])"
            ]
          },
          "metadata": {},
          "execution_count": 18
        }
      ]
    },
    {
      "cell_type": "code",
      "source": [
        "arr.flatten()\n"
      ],
      "metadata": {
        "colab": {
          "base_uri": "https://localhost:8080/"
        },
        "id": "FdBhyBjkZOqT",
        "outputId": "6b9eb075-60c0-4562-b023-e198af3ab399"
      },
      "execution_count": 19,
      "outputs": [
        {
          "output_type": "execute_result",
          "data": {
            "text/plain": [
              "array([0.95214471, 0.28703579, 0.20220506, 0.04040527, 0.2445079 ,\n",
              "       0.81119387, 0.59336583, 0.74699511, 0.43809282, 0.85193902,\n",
              "       0.29831895, 0.45092787])"
            ]
          },
          "metadata": {},
          "execution_count": 19
        }
      ]
    },
    {
      "cell_type": "code",
      "source": [
        "#flatten function helps to convert the array into 1D"
      ],
      "metadata": {
        "id": "J-8OC5A8ZSim"
      },
      "execution_count": null,
      "outputs": []
    }
  ]
}